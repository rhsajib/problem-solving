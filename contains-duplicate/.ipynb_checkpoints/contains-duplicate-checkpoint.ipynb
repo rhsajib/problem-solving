{
 "cells": [
  {
   "cell_type": "code",
   "execution_count": 1,
   "id": "4d7db81c",
   "metadata": {},
   "outputs": [
    {
     "name": "stdout",
     "output_type": "stream",
     "text": [
      "True\n"
     ]
    }
   ],
   "source": [
    "def contains_duplicate(nums):\n",
    "    \"\"\"\n",
    "    :type nums: List[int]\n",
    "    :rtype: bool\n",
    "    \"\"\"\n",
    "\n",
    "    if len(nums) == len(set(nums)):\n",
    "        return False\n",
    "    return True\n",
    "\n",
    "nums = [1,2,3,1]                 # Output: true\n",
    "# nums = [1,2,3,4]               # Output: false\n",
    "# nums = [1,1,1,3,3,4,3,2,4,2]   # Output: true\n",
    "\n",
    "result = contains_duplicate(nums)\n",
    "print(result)"
   ]
  }
 ],
 "metadata": {
  "kernelspec": {
   "display_name": "Python 3 (ipykernel)",
   "language": "python",
   "name": "python3"
  },
  "language_info": {
   "codemirror_mode": {
    "name": "ipython",
    "version": 3
   },
   "file_extension": ".py",
   "mimetype": "text/x-python",
   "name": "python",
   "nbconvert_exporter": "python",
   "pygments_lexer": "ipython3",
   "version": "3.10.9"
  }
 },
 "nbformat": 4,
 "nbformat_minor": 5
}
