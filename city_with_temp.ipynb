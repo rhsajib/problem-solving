{
 "cells": [
  {
   "cell_type": "code",
   "execution_count": null,
   "id": "a98dc900",
   "metadata": {},
   "outputs": [],
   "source": []
  },
  {
   "cell_type": "code",
   "execution_count": null,
   "id": "630b2e27",
   "metadata": {},
   "outputs": [],
   "source": [
    "\"\"\"\n",
    "The Task is to find best route to visit 5 given cities in next 5 days. \n",
    "Here programme will print out the sequence of the city name and \n",
    "the average of the highly daily temperature\n",
    "\n",
    "\"\"\""
   ]
  },
  {
   "cell_type": "code",
   "execution_count": 46,
   "id": "acd53f62",
   "metadata": {},
   "outputs": [
    {
     "name": "stdout",
     "output_type": "stream",
     "text": [
      "61.0 ['chandler', 'Casa Grande', 'Lake Havasu City', 'Flagstaff', 'Sedona']\n"
     ]
    }
   ],
   "source": [
    "city_with_temp = {\n",
    "    \"Lake Havasu City\": [71, 65, 63, 66, 68],\n",
    "    \"Sedona\": [62, 47, 45, 51, 56],\n",
    "    \"Flagstaff\": [46, 35, 33, 40, 44],\n",
    "    \"Casa Grande\": [76, 69, 60, 64, 69],\n",
    "    \"chandler\": [77, 68, 61, 65, 67],\n",
    "}\n",
    "\n",
    "\n",
    "def permutation(a):\n",
    "    route = []\n",
    "    \n",
    "    if len(a) ==0:\n",
    "        return []\n",
    "    if len(a) == 1:\n",
    "        return [a]\n",
    "    for i in range(len(a)):\n",
    "        m = a[i]\n",
    "        rem_a = a[:i] + a[i+1:]\n",
    "        for p in permutation(rem_a):\n",
    "            route.append([m] + p)\n",
    "    return route\n",
    "\n",
    "\n",
    "citys = [i for i in city_with_temp.keys()]\n",
    "\n",
    "list_of_routes = permutation(citys)\n",
    "\n",
    "height_temp = 0\n",
    "best_route = []\n",
    "\n",
    "for route in list_of_routes:\n",
    "    total_temp = 0\n",
    "    for i, cty in enumerate(route):\n",
    "        cty_temp = city_with_temp[cty][i]\n",
    "        total_temp += cty_temp\n",
    "    avg_temp = total_temp/5.0\n",
    "\n",
    "    if avg_temp > height_temp:\n",
    "        height_temp = avg_temp\n",
    "        best_route = route\n",
    "\n",
    "print(height_temp, best_route)\n",
    "        "
   ]
  },
  {
   "cell_type": "code",
   "execution_count": 48,
   "id": "8a064bda",
   "metadata": {},
   "outputs": [
    {
     "name": "stdout",
     "output_type": "stream",
     "text": [
      "Lake Havasu City\n",
      "Sedona\n",
      "Flagstaff\n",
      "Casa Grande\n",
      "chandler\n"
     ]
    }
   ],
   "source": [
    "for i in city_with_temp.keys():\n",
    "    print(i)"
   ]
  },
  {
   "cell_type": "code",
   "execution_count": null,
   "id": "2836c8ce",
   "metadata": {},
   "outputs": [],
   "source": []
  }
 ],
 "metadata": {
  "kernelspec": {
   "display_name": "Python 3 (ipykernel)",
   "language": "python",
   "name": "python3"
  },
  "language_info": {
   "codemirror_mode": {
    "name": "ipython",
    "version": 3
   },
   "file_extension": ".py",
   "mimetype": "text/x-python",
   "name": "python",
   "nbconvert_exporter": "python",
   "pygments_lexer": "ipython3",
   "version": "3.10.9"
  }
 },
 "nbformat": 4,
 "nbformat_minor": 5
}
