{
 "cells": [
  {
   "cell_type": "markdown",
   "id": "8c53c721",
   "metadata": {},
   "source": [
    "### precess - 1"
   ]
  },
  {
   "cell_type": "code",
   "execution_count": 1,
   "id": "d8ad9bd3",
   "metadata": {},
   "outputs": [
    {
     "name": "stdout",
     "output_type": "stream",
     "text": [
      "[1, 2]\n"
     ]
    }
   ],
   "source": [
    "def top_k_frequent(nums, k):\n",
    "    nums_dict = {}\n",
    "    for num in nums:\n",
    "        if num in nums_dict:\n",
    "            nums_dict[num] += 1\n",
    "        else:\n",
    "            nums_dict[num] = 1\n",
    "    \n",
    "    sorted_dict = sorted(nums_dict.keys(), key=lambda x: nums_dict[x], reverse=True)\n",
    "    \n",
    "    return sorted_dict[:k]\n",
    "\n",
    "k = 2\n",
    "nums = [1,1,1,2,2,3]         # Output: [1, 2]\n",
    "# nums = [4,1,-1,2,-1,2,3]   # Output: [-1, 2]\n",
    "\n",
    "result = top_k_frequent(nums, k)\n",
    "print(result)"
   ]
  },
  {
   "cell_type": "markdown",
   "id": "4033b746",
   "metadata": {},
   "source": [
    "### precess - 2"
   ]
  },
  {
   "cell_type": "code",
   "execution_count": 2,
   "id": "b64ba8c9",
   "metadata": {},
   "outputs": [
    {
     "name": "stdout",
     "output_type": "stream",
     "text": [
      "[1, 2]\n"
     ]
    }
   ],
   "source": [
    "def top_k_frequent(nums, k):\n",
    "    nums_dict = {i:nums.count(i) for i in set(nums)}\n",
    "    \n",
    "    sorted_dict = sorted(nums_dict.keys(), key=lambda x: nums_dict[x], reverse=True)\n",
    "    \n",
    "    return sorted_dict[:k]\n",
    "\n",
    "\n",
    "k = 2\n",
    "nums = [1,1,1,2,2,3]         # Output: [1, 2]\n",
    "# nums = [4,1,-1,2,-1,2,3]   # Output: [-1, 2]\n",
    "\n",
    "result = top_k_frequent(nums, k)\n",
    "print(result)\n"
   ]
  }
 ],
 "metadata": {
  "kernelspec": {
   "display_name": "Python 3 (ipykernel)",
   "language": "python",
   "name": "python3"
  },
  "language_info": {
   "codemirror_mode": {
    "name": "ipython",
    "version": 3
   },
   "file_extension": ".py",
   "mimetype": "text/x-python",
   "name": "python",
   "nbconvert_exporter": "python",
   "pygments_lexer": "ipython3",
   "version": "3.10.9"
  }
 },
 "nbformat": 4,
 "nbformat_minor": 5
}
