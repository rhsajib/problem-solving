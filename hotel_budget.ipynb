{
 "cells": [
  {
   "cell_type": "code",
   "execution_count": 30,
   "id": "895bc5c4",
   "metadata": {},
   "outputs": [],
   "source": [
    "\"\"\"\n",
    "The task is to calculate result which give maximum cost of budget(850$) within stay max in hotel. \n",
    "You have a budget of $850. You certainly do not want to overspent but max it out. \n",
    "Therefore, your calculate result should below budget but maximum.\n",
    "\n",
    "\"\"\"\n",
    "\n",
    "budget = 850\n",
    "hotel_with_price = {\n",
    "    \"Motel 6\": 89,\n",
    "    \"Best Western\": 109,\n",
    "    \"Holiday Inn Express\": 115,\n",
    "    \"Courtyard by Marriott\": 229,\n",
    "    \"Residence Inn\": 199,\n",
    "    \"Hampton Inn\": 209,\n",
    "}"
   ]
  },
  {
   "cell_type": "code",
   "execution_count": 32,
   "id": "038d9f13",
   "metadata": {},
   "outputs": [],
   "source": [
    "def n_length_combo(lst, n):\n",
    "     \n",
    "    if n == 0:\n",
    "        return [[]]\n",
    "     \n",
    "    l =[]\n",
    "    for i in range(0, len(lst)):\n",
    "         \n",
    "        m = lst[i]\n",
    "        remLst = lst[i + 1:]\n",
    "         \n",
    "        remainlst_combo = n_length_combo(remLst, n-1)\n",
    "        for p in remainlst_combo:\n",
    "             l.append([m, *p])\n",
    "           \n",
    "    return l"
   ]
  },
  {
   "cell_type": "code",
   "execution_count": 37,
   "id": "57123ccc",
   "metadata": {},
   "outputs": [
    {
     "name": "stdout",
     "output_type": "stream",
     "text": [
      "841 ['Motel 6', 'Holiday Inn Express', 'Courtyard by Marriott', 'Residence Inn', 'Hampton Inn']\n"
     ]
    }
   ],
   "source": [
    "hotels = [x for x in hotel_with_price.keys()]\n",
    "all_hotels = []\n",
    "for i in range(1,6):\n",
    "    all_hotels += n_length_combo(hotels, i)\n",
    "    \n",
    "\n",
    "total_spent = 0\n",
    "hotel_combination = []\n",
    "for item in all_hotels:  \n",
    "    total_price = 0\n",
    "    for i in item:\n",
    "        total_price += hotel_with_price[i]\n",
    "      \n",
    "    if total_price <= budget and total_price> total_spent:\n",
    "        total_spent = total_price\n",
    "        hotel_combination = item\n",
    "\n",
    "        \n",
    "print(total_spent, hotel_combination)    "
   ]
  },
  {
   "cell_type": "code",
   "execution_count": null,
   "id": "15b29f08",
   "metadata": {},
   "outputs": [],
   "source": []
  }
 ],
 "metadata": {
  "kernelspec": {
   "display_name": "Python 3 (ipykernel)",
   "language": "python",
   "name": "python3"
  },
  "language_info": {
   "codemirror_mode": {
    "name": "ipython",
    "version": 3
   },
   "file_extension": ".py",
   "mimetype": "text/x-python",
   "name": "python",
   "nbconvert_exporter": "python",
   "pygments_lexer": "ipython3",
   "version": "3.10.9"
  }
 },
 "nbformat": 4,
 "nbformat_minor": 5
}
